{
 "cells": [
  {
   "attachments": {},
   "cell_type": "markdown",
   "metadata": {},
   "source": [
    "# Modeling: Developing Accurate Models for credit default"
   ]
  },
  {
   "attachments": {},
   "cell_type": "markdown",
   "metadata": {},
   "source": [
    "# Summary of the notebook\n",
    "- Feature engineering\n",
    "    - Convert the 'request_datetime' and 'reimbursement_date' columns to datetime objects.\n",
    "    - Extract relevant features from the datetime columns.\n",
    "    - Create new features\n",
    "    \n",
    "\n",
    "- Training and evaluation\n",
    "    - Split the dataset into training, validation and testing sets.\n",
    "    - Train multiple machine learning models on training set and evaluate them on validation set\n",
    "    - Take the best performing model and tune it on the validation set and check for overfitting\n",
    "    - Evaluate the performance on the test set\n",
    "\n",
    "- Checking the stability of our algorithm by mesuring the error on simulation_history dataset \n",
    "\n",
    "- Comparing our performance with human-level performance\n",
    "    - Calculate the number of false positive from the simulation_history dataset\n",
    "    - Compare with the number of false positive from the model on the simulation_history dataset"
   ]
  },
  {
   "attachments": {},
   "cell_type": "markdown",
   "metadata": {},
   "source": [
    "# Import Librairies"
   ]
  },
  {
   "cell_type": "code",
   "execution_count": 12,
   "metadata": {},
   "outputs": [],
   "source": [
    "# Data manipulation libraries\n",
    "import pandas as pd\n",
    "import numpy as np\n",
    "import joblib\n",
    "import sys\n",
    "import os\n",
    "import warnings\n",
    "\n",
    "# Suppress warnings\n",
    "warnings.filterwarnings(\"ignore\")\n",
    "\n",
    "# Scikit-learn tools\n",
    "from sklearn.model_selection import train_test_split\n",
    "from sklearn.preprocessing import StandardScaler\n",
    "\n",
    "# Models\n",
    "from sklearn.linear_model import LogisticRegression\n",
    "from sklearn.ensemble import RandomForestClassifier\n",
    "from xgboost import XGBClassifier\n",
    "from imblearn.over_sampling import SMOTE \n",
    "\n",
    "# Metrics \n",
    "from sklearn.metrics import (classification_report, confusion_matrix, accuracy_score, roc_auc_score)\n"
   ]
  },
  {
   "cell_type": "code",
   "execution_count": 13,
   "metadata": {},
   "outputs": [
    {
     "data": {
      "text/html": [
       "<div>\n",
       "<style scoped>\n",
       "    .dataframe tbody tr th:only-of-type {\n",
       "        vertical-align: middle;\n",
       "    }\n",
       "\n",
       "    .dataframe tbody tr th {\n",
       "        vertical-align: top;\n",
       "    }\n",
       "\n",
       "    .dataframe thead th {\n",
       "        text-align: right;\n",
       "    }\n",
       "</style>\n",
       "<table border=\"1\" class=\"dataframe\">\n",
       "  <thead>\n",
       "    <tr style=\"text-align: right;\">\n",
       "      <th></th>\n",
       "      <th>customer_id</th>\n",
       "      <th>simulation_id</th>\n",
       "      <th>loan_id</th>\n",
       "      <th>request_datetime</th>\n",
       "      <th>reimbursement_date</th>\n",
       "      <th>algo1_eligible_amount</th>\n",
       "      <th>algo2_eligible_amount</th>\n",
       "      <th>mean_countcashout_20_weeks</th>\n",
       "      <th>mean_airtime_balance_20_weeks</th>\n",
       "      <th>mean_volotherout</th>\n",
       "      <th>mean_volcashout_20_weeks</th>\n",
       "      <th>mean_balance_20_weeks</th>\n",
       "      <th>ratio_active_profile</th>\n",
       "      <th>awareness_indice</th>\n",
       "      <th>is_default60</th>\n",
       "    </tr>\n",
       "  </thead>\n",
       "  <tbody>\n",
       "    <tr>\n",
       "      <th>0</th>\n",
       "      <td>customer_214568157</td>\n",
       "      <td>simulation_9bdb122d7</td>\n",
       "      <td>loan_234c90053</td>\n",
       "      <td>2021-02-13 15:07:51.392</td>\n",
       "      <td>2021-03-15</td>\n",
       "      <td>28874.872964</td>\n",
       "      <td>24415.986393</td>\n",
       "      <td>0.110198</td>\n",
       "      <td>10.749030</td>\n",
       "      <td>137.356117</td>\n",
       "      <td>43034.784930</td>\n",
       "      <td>4628.804801</td>\n",
       "      <td>0.794999</td>\n",
       "      <td>111105.515189</td>\n",
       "      <td>1.0</td>\n",
       "    </tr>\n",
       "    <tr>\n",
       "      <th>1</th>\n",
       "      <td>customer_8b8004a5f</td>\n",
       "      <td>simulation_a21679f89</td>\n",
       "      <td>loan_f2a468b83</td>\n",
       "      <td>2020-07-30 21:37:44.442</td>\n",
       "      <td>2020-08-30</td>\n",
       "      <td>830.339108</td>\n",
       "      <td>4462.503483</td>\n",
       "      <td>0.056128</td>\n",
       "      <td>131.163084</td>\n",
       "      <td>42.401318</td>\n",
       "      <td>5222.767652</td>\n",
       "      <td>3889.942074</td>\n",
       "      <td>0.674275</td>\n",
       "      <td>252011.901109</td>\n",
       "      <td>0.0</td>\n",
       "    </tr>\n",
       "    <tr>\n",
       "      <th>2</th>\n",
       "      <td>customer_0d466cdf2</td>\n",
       "      <td>simulation_e57afa639</td>\n",
       "      <td>loan_c1afb3eda</td>\n",
       "      <td>2020-08-23 15:11:42.087</td>\n",
       "      <td>2020-09-22</td>\n",
       "      <td>51822.237442</td>\n",
       "      <td>75189.327491</td>\n",
       "      <td>0.567690</td>\n",
       "      <td>42.266660</td>\n",
       "      <td>312.466782</td>\n",
       "      <td>23038.404464</td>\n",
       "      <td>13800.932517</td>\n",
       "      <td>0.245463</td>\n",
       "      <td>235158.389478</td>\n",
       "      <td>0.0</td>\n",
       "    </tr>\n",
       "    <tr>\n",
       "      <th>3</th>\n",
       "      <td>customer_762c8f4bc</td>\n",
       "      <td>simulation_9eaf91941</td>\n",
       "      <td>loan_e6f7a8fbb</td>\n",
       "      <td>2020-08-31 18:00:04.873</td>\n",
       "      <td>2020-09-30</td>\n",
       "      <td>1865.496542</td>\n",
       "      <td>6400.901403</td>\n",
       "      <td>0.169214</td>\n",
       "      <td>111.608549</td>\n",
       "      <td>338.549751</td>\n",
       "      <td>9897.466939</td>\n",
       "      <td>312.578495</td>\n",
       "      <td>0.691704</td>\n",
       "      <td>255626.351269</td>\n",
       "      <td>1.0</td>\n",
       "    </tr>\n",
       "    <tr>\n",
       "      <th>4</th>\n",
       "      <td>customer_d1c1529bc</td>\n",
       "      <td>simulation_5d35eb47d</td>\n",
       "      <td>loan_f5ec62598</td>\n",
       "      <td>2021-02-12 17:17:44.344</td>\n",
       "      <td>2021-03-14</td>\n",
       "      <td>4562.433908</td>\n",
       "      <td>5398.122156</td>\n",
       "      <td>0.170014</td>\n",
       "      <td>9.073107</td>\n",
       "      <td>206.502945</td>\n",
       "      <td>3943.852214</td>\n",
       "      <td>135.202018</td>\n",
       "      <td>0.583585</td>\n",
       "      <td>104721.891496</td>\n",
       "      <td>1.0</td>\n",
       "    </tr>\n",
       "  </tbody>\n",
       "</table>\n",
       "</div>"
      ],
      "text/plain": [
       "          customer_id         simulation_id         loan_id  \\\n",
       "0  customer_214568157  simulation_9bdb122d7  loan_234c90053   \n",
       "1  customer_8b8004a5f  simulation_a21679f89  loan_f2a468b83   \n",
       "2  customer_0d466cdf2  simulation_e57afa639  loan_c1afb3eda   \n",
       "3  customer_762c8f4bc  simulation_9eaf91941  loan_e6f7a8fbb   \n",
       "4  customer_d1c1529bc  simulation_5d35eb47d  loan_f5ec62598   \n",
       "\n",
       "          request_datetime reimbursement_date  algo1_eligible_amount  \\\n",
       "0  2021-02-13 15:07:51.392         2021-03-15           28874.872964   \n",
       "1  2020-07-30 21:37:44.442         2020-08-30             830.339108   \n",
       "2  2020-08-23 15:11:42.087         2020-09-22           51822.237442   \n",
       "3  2020-08-31 18:00:04.873         2020-09-30            1865.496542   \n",
       "4  2021-02-12 17:17:44.344         2021-03-14            4562.433908   \n",
       "\n",
       "   algo2_eligible_amount  mean_countcashout_20_weeks  \\\n",
       "0           24415.986393                    0.110198   \n",
       "1            4462.503483                    0.056128   \n",
       "2           75189.327491                    0.567690   \n",
       "3            6400.901403                    0.169214   \n",
       "4            5398.122156                    0.170014   \n",
       "\n",
       "   mean_airtime_balance_20_weeks  mean_volotherout  mean_volcashout_20_weeks  \\\n",
       "0                      10.749030        137.356117              43034.784930   \n",
       "1                     131.163084         42.401318               5222.767652   \n",
       "2                      42.266660        312.466782              23038.404464   \n",
       "3                     111.608549        338.549751               9897.466939   \n",
       "4                       9.073107        206.502945               3943.852214   \n",
       "\n",
       "   mean_balance_20_weeks  ratio_active_profile  awareness_indice  is_default60  \n",
       "0            4628.804801              0.794999     111105.515189           1.0  \n",
       "1            3889.942074              0.674275     252011.901109           0.0  \n",
       "2           13800.932517              0.245463     235158.389478           0.0  \n",
       "3             312.578495              0.691704     255626.351269           1.0  \n",
       "4             135.202018              0.583585     104721.891496           1.0  "
      ]
     },
     "execution_count": 13,
     "metadata": {},
     "output_type": "execute_result"
    }
   ],
   "source": [
    "# Get the absolute path to the credit_default_prediction directory\n",
    "credit_default_dir = os.path.abspath(os.path.join(os.getcwd(), \"../\"))\n",
    "\n",
    "# Construct the path to the CSV file\n",
    "data_name = 'train_topred.csv'\n",
    "data_path = credit_default_dir + '/data/raw/' + data_name\n",
    "\n",
    "# Load the CSV file into a pandas dataframe\n",
    "df = pd.read_csv(data_path)\n",
    "df.head()"
   ]
  },
  {
   "cell_type": "markdown",
   "metadata": {},
   "source": [
    "# Feature engineering"
   ]
  },
  {
   "attachments": {},
   "cell_type": "markdown",
   "metadata": {},
   "source": [
    "We have create some features that might be useful for our prediction task (see the file data_processing.py). "
   ]
  },
  {
   "cell_type": "code",
   "execution_count": 15,
   "metadata": {},
   "outputs": [],
   "source": [
    "# Import the \"process_data\" function from \"data_processing.py\"\n",
    "src_path = os.path.join(credit_default_dir, 'src')\n",
    "sys.path.append(src_path)\n",
    "from data_processing import process_data"
   ]
  },
  {
   "cell_type": "code",
   "execution_count": 5,
   "metadata": {},
   "outputs": [
    {
     "data": {
      "text/html": [
       "<div>\n",
       "<style scoped>\n",
       "    .dataframe tbody tr th:only-of-type {\n",
       "        vertical-align: middle;\n",
       "    }\n",
       "\n",
       "    .dataframe tbody tr th {\n",
       "        vertical-align: top;\n",
       "    }\n",
       "\n",
       "    .dataframe thead th {\n",
       "        text-align: right;\n",
       "    }\n",
       "</style>\n",
       "<table border=\"1\" class=\"dataframe\">\n",
       "  <thead>\n",
       "    <tr style=\"text-align: right;\">\n",
       "      <th></th>\n",
       "      <th>algo1_eligible_amount</th>\n",
       "      <th>algo2_eligible_amount</th>\n",
       "      <th>mean_countcashout_20_weeks</th>\n",
       "      <th>mean_airtime_balance_20_weeks</th>\n",
       "      <th>mean_volotherout</th>\n",
       "      <th>mean_volcashout_20_weeks</th>\n",
       "      <th>mean_balance_20_weeks</th>\n",
       "      <th>ratio_active_profile</th>\n",
       "      <th>awareness_indice</th>\n",
       "      <th>is_default60</th>\n",
       "      <th>...</th>\n",
       "      <th>reimbursement_dayofweek</th>\n",
       "      <th>date_diff</th>\n",
       "      <th>mean_cashout_to_balance_ratio</th>\n",
       "      <th>mean_cashout_to_airtime_ratio</th>\n",
       "      <th>mean_volotherout_to_balance_ratio</th>\n",
       "      <th>algo_diff</th>\n",
       "      <th>total_eligible_amount</th>\n",
       "      <th>min_algo_eligible_amount</th>\n",
       "      <th>max_algo_eligible_amount</th>\n",
       "      <th>mean_algo_eligible_amount</th>\n",
       "    </tr>\n",
       "  </thead>\n",
       "  <tbody>\n",
       "    <tr>\n",
       "      <th>0</th>\n",
       "      <td>28874.872964</td>\n",
       "      <td>24415.986393</td>\n",
       "      <td>0.110198</td>\n",
       "      <td>10.749030</td>\n",
       "      <td>137.356117</td>\n",
       "      <td>43034.784930</td>\n",
       "      <td>4628.804801</td>\n",
       "      <td>0.794999</td>\n",
       "      <td>111105.515189</td>\n",
       "      <td>1.0</td>\n",
       "      <td>...</td>\n",
       "      <td>0</td>\n",
       "      <td>29</td>\n",
       "      <td>9.297170</td>\n",
       "      <td>4003.597171</td>\n",
       "      <td>0.029674</td>\n",
       "      <td>4458.886571</td>\n",
       "      <td>53290.859357</td>\n",
       "      <td>24415.986393</td>\n",
       "      <td>28874.872964</td>\n",
       "      <td>26645.429678</td>\n",
       "    </tr>\n",
       "    <tr>\n",
       "      <th>1</th>\n",
       "      <td>830.339108</td>\n",
       "      <td>4462.503483</td>\n",
       "      <td>0.056128</td>\n",
       "      <td>131.163084</td>\n",
       "      <td>42.401318</td>\n",
       "      <td>5222.767652</td>\n",
       "      <td>3889.942074</td>\n",
       "      <td>0.674275</td>\n",
       "      <td>252011.901109</td>\n",
       "      <td>0.0</td>\n",
       "      <td>...</td>\n",
       "      <td>6</td>\n",
       "      <td>30</td>\n",
       "      <td>1.342634</td>\n",
       "      <td>39.818884</td>\n",
       "      <td>0.010900</td>\n",
       "      <td>3632.164375</td>\n",
       "      <td>5292.842591</td>\n",
       "      <td>830.339108</td>\n",
       "      <td>4462.503483</td>\n",
       "      <td>2646.421296</td>\n",
       "    </tr>\n",
       "    <tr>\n",
       "      <th>2</th>\n",
       "      <td>51822.237442</td>\n",
       "      <td>75189.327491</td>\n",
       "      <td>0.567690</td>\n",
       "      <td>42.266660</td>\n",
       "      <td>312.466782</td>\n",
       "      <td>23038.404464</td>\n",
       "      <td>13800.932517</td>\n",
       "      <td>0.245463</td>\n",
       "      <td>235158.389478</td>\n",
       "      <td>0.0</td>\n",
       "      <td>...</td>\n",
       "      <td>1</td>\n",
       "      <td>29</td>\n",
       "      <td>1.669337</td>\n",
       "      <td>545.072748</td>\n",
       "      <td>0.022641</td>\n",
       "      <td>23367.090049</td>\n",
       "      <td>127011.564933</td>\n",
       "      <td>51822.237442</td>\n",
       "      <td>75189.327491</td>\n",
       "      <td>63505.782467</td>\n",
       "    </tr>\n",
       "    <tr>\n",
       "      <th>3</th>\n",
       "      <td>1865.496542</td>\n",
       "      <td>6400.901403</td>\n",
       "      <td>0.169214</td>\n",
       "      <td>111.608549</td>\n",
       "      <td>338.549751</td>\n",
       "      <td>9897.466939</td>\n",
       "      <td>312.578495</td>\n",
       "      <td>0.691704</td>\n",
       "      <td>255626.351269</td>\n",
       "      <td>1.0</td>\n",
       "      <td>...</td>\n",
       "      <td>2</td>\n",
       "      <td>29</td>\n",
       "      <td>31.663941</td>\n",
       "      <td>88.680186</td>\n",
       "      <td>1.083087</td>\n",
       "      <td>4535.404861</td>\n",
       "      <td>8266.397946</td>\n",
       "      <td>1865.496542</td>\n",
       "      <td>6400.901403</td>\n",
       "      <td>4133.198973</td>\n",
       "    </tr>\n",
       "    <tr>\n",
       "      <th>4</th>\n",
       "      <td>4562.433908</td>\n",
       "      <td>5398.122156</td>\n",
       "      <td>0.170014</td>\n",
       "      <td>9.073107</td>\n",
       "      <td>206.502945</td>\n",
       "      <td>3943.852214</td>\n",
       "      <td>135.202018</td>\n",
       "      <td>0.583585</td>\n",
       "      <td>104721.891496</td>\n",
       "      <td>1.0</td>\n",
       "      <td>...</td>\n",
       "      <td>6</td>\n",
       "      <td>29</td>\n",
       "      <td>29.170069</td>\n",
       "      <td>434.674958</td>\n",
       "      <td>1.527366</td>\n",
       "      <td>835.688248</td>\n",
       "      <td>9960.556064</td>\n",
       "      <td>4562.433908</td>\n",
       "      <td>5398.122156</td>\n",
       "      <td>4980.278032</td>\n",
       "    </tr>\n",
       "  </tbody>\n",
       "</table>\n",
       "<p>5 rows × 28 columns</p>\n",
       "</div>"
      ],
      "text/plain": [
       "   algo1_eligible_amount  algo2_eligible_amount  mean_countcashout_20_weeks  \\\n",
       "0           28874.872964           24415.986393                    0.110198   \n",
       "1             830.339108            4462.503483                    0.056128   \n",
       "2           51822.237442           75189.327491                    0.567690   \n",
       "3            1865.496542            6400.901403                    0.169214   \n",
       "4            4562.433908            5398.122156                    0.170014   \n",
       "\n",
       "   mean_airtime_balance_20_weeks  mean_volotherout  mean_volcashout_20_weeks  \\\n",
       "0                      10.749030        137.356117              43034.784930   \n",
       "1                     131.163084         42.401318               5222.767652   \n",
       "2                      42.266660        312.466782              23038.404464   \n",
       "3                     111.608549        338.549751               9897.466939   \n",
       "4                       9.073107        206.502945               3943.852214   \n",
       "\n",
       "   mean_balance_20_weeks  ratio_active_profile  awareness_indice  \\\n",
       "0            4628.804801              0.794999     111105.515189   \n",
       "1            3889.942074              0.674275     252011.901109   \n",
       "2           13800.932517              0.245463     235158.389478   \n",
       "3             312.578495              0.691704     255626.351269   \n",
       "4             135.202018              0.583585     104721.891496   \n",
       "\n",
       "   is_default60  ...  reimbursement_dayofweek  date_diff  \\\n",
       "0           1.0  ...                        0         29   \n",
       "1           0.0  ...                        6         30   \n",
       "2           0.0  ...                        1         29   \n",
       "3           1.0  ...                        2         29   \n",
       "4           1.0  ...                        6         29   \n",
       "\n",
       "   mean_cashout_to_balance_ratio  mean_cashout_to_airtime_ratio  \\\n",
       "0                       9.297170                    4003.597171   \n",
       "1                       1.342634                      39.818884   \n",
       "2                       1.669337                     545.072748   \n",
       "3                      31.663941                      88.680186   \n",
       "4                      29.170069                     434.674958   \n",
       "\n",
       "   mean_volotherout_to_balance_ratio     algo_diff  total_eligible_amount  \\\n",
       "0                           0.029674   4458.886571           53290.859357   \n",
       "1                           0.010900   3632.164375            5292.842591   \n",
       "2                           0.022641  23367.090049          127011.564933   \n",
       "3                           1.083087   4535.404861            8266.397946   \n",
       "4                           1.527366    835.688248            9960.556064   \n",
       "\n",
       "   min_algo_eligible_amount  max_algo_eligible_amount  \\\n",
       "0              24415.986393              28874.872964   \n",
       "1                830.339108               4462.503483   \n",
       "2              51822.237442              75189.327491   \n",
       "3               1865.496542               6400.901403   \n",
       "4               4562.433908               5398.122156   \n",
       "\n",
       "   mean_algo_eligible_amount  \n",
       "0               26645.429678  \n",
       "1                2646.421296  \n",
       "2               63505.782467  \n",
       "3                4133.198973  \n",
       "4                4980.278032  \n",
       "\n",
       "[5 rows x 28 columns]"
      ]
     },
     "execution_count": 5,
     "metadata": {},
     "output_type": "execute_result"
    }
   ],
   "source": [
    "# apply processing to df\n",
    "df = process_data(df)\n",
    "df.head()"
   ]
  },
  {
   "attachments": {},
   "cell_type": "markdown",
   "metadata": {},
   "source": [
    "# Training and evaluation"
   ]
  },
  {
   "attachments": {},
   "cell_type": "markdown",
   "metadata": {},
   "source": [
    "## Train-val-test split"
   ]
  },
  {
   "cell_type": "code",
   "execution_count": 6,
   "metadata": {},
   "outputs": [],
   "source": [
    "# Split the dataset into training, validation and testing sets:\n",
    "X = df.drop('is_default60', axis=1)\n",
    "y = df['is_default60']\n",
    "\n",
    "# First, we split the dataset into train (80%) and a temporary test set (20%)\n",
    "X_train, X_temp, y_train, y_temp = train_test_split(X, y, test_size=0.2, random_state=42)\n",
    "\n",
    "# Next, we split the temporary test set into validation (10%) and test sets (10%)\n",
    "X_val, X_test, y_val, y_test = train_test_split(X_temp, y_temp, test_size=0.5, random_state=42)"
   ]
  },
  {
   "attachments": {},
   "cell_type": "markdown",
   "metadata": {},
   "source": [
    "## Model selection"
   ]
  },
  {
   "attachments": {},
   "cell_type": "markdown",
   "metadata": {},
   "source": [
    "Since it is a classification problem, lets experiment with different classification algorithm with increasing complexity : \n",
    "- Logistic regression \n",
    "- Decision tree\n",
    "- Random Forest\n",
    "- XgBoost"
   ]
  },
  {
   "attachments": {},
   "cell_type": "markdown",
   "metadata": {},
   "source": [
    "First we will compare their performance on the validation set with their default parameters"
   ]
  },
  {
   "cell_type": "code",
   "execution_count": 17,
   "metadata": {},
   "outputs": [
    {
     "name": "stdout",
     "output_type": "stream",
     "text": [
      "\n",
      "LogisticRegression - Validation Set Performance\n",
      "Classification Report:\n",
      "              precision    recall  f1-score   support\n",
      "\n",
      "         0.0       0.67      0.84      0.75      7474\n",
      "         1.0       0.58      0.35      0.44      4669\n",
      "\n",
      "    accuracy                           0.65     12143\n",
      "   macro avg       0.63      0.60      0.59     12143\n",
      "weighted avg       0.64      0.65      0.63     12143\n",
      "\n",
      "AUC Score: 0.6804966147225711\n",
      "\n",
      "RandomForestClassifier - Validation Set Performance\n",
      "Classification Report:\n",
      "              precision    recall  f1-score   support\n",
      "\n",
      "         0.0       0.70      0.81      0.75      7474\n",
      "         1.0       0.59      0.44      0.50      4669\n",
      "\n",
      "    accuracy                           0.67     12143\n",
      "   macro avg       0.65      0.63      0.63     12143\n",
      "weighted avg       0.66      0.67      0.66     12143\n",
      "\n",
      "AUC Score: 0.7035913978482299\n",
      "\n",
      "XGBClassifier - Validation Set Performance\n",
      "Classification Report:\n",
      "              precision    recall  f1-score   support\n",
      "\n",
      "         0.0       0.71      0.79      0.75      7474\n",
      "         1.0       0.59      0.47      0.52      4669\n",
      "\n",
      "    accuracy                           0.67     12143\n",
      "   macro avg       0.65      0.63      0.64     12143\n",
      "weighted avg       0.66      0.67      0.66     12143\n",
      "\n",
      "AUC Score: 0.7119850134568024\n"
     ]
    },
    {
     "data": {
      "image/png": "[encoded data removed]",
      "text/plain": [
       "<Figure size 640x480 with 1 Axes>"
      ]
     },
     "metadata": {},
     "output_type": "display_data"
    }
   ],
   "source": [
    "from sklearn.linear_model import LogisticRegression\n",
    "from sklearn.tree import DecisionTreeClassifier\n",
    "from sklearn.ensemble import RandomForestClassifier\n",
    "from xgboost import XGBClassifier\n",
    "from sklearn.metrics import classification_report, roc_auc_score\n",
    "import numpy as np\n",
    "import matplotlib.pyplot as plt\n",
    "\n",
    "# Scale the features (this is needed only for logistic regression but we need to do it for all the algorithms in order to compare them on the same basis)\n",
    "scaler = StandardScaler()\n",
    "X_train_scaled = scaler.fit_transform(X_train)\n",
    "X_test_scaled = scaler.transform(X_test)\n",
    "X_val_scaled = scaler.transform(X_val)\n",
    "\n",
    "# Instantiate models\n",
    "logreg = LogisticRegression(random_state=42)\n",
    "rf = RandomForestClassifier(random_state=42)\n",
    "xgb = XGBClassifier(random_state=42)\n",
    "\n",
    "# Fit models on training set\n",
    "logreg.fit(X_train_scaled, y_train)\n",
    "rf.fit(X_train_scaled, y_train)\n",
    "xgb.fit(X_train_scaled, y_train)\n",
    "\n",
    "# Evaluate model performance on validation set\n",
    "models = [logreg, rf, xgb]\n",
    "auc_scores = []\n",
    "for model in models:\n",
    "    y_pred_val = model.predict(X_val_scaled)\n",
    "    y_prob_val = model.predict_proba(X_val_scaled)[:, 1]\n",
    "    print(\"\\n\" + str(model.__class__.__name__) + \" - Validation Set Performance\")\n",
    "    print(\"Classification Report:\")\n",
    "    print(classification_report(y_val, y_pred_val))\n",
    "    auc = roc_auc_score(y_val, y_prob_val)\n",
    "    auc_scores.append(auc)\n",
    "    print(\"AUC Score:\", auc)\n",
    "\n",
    "# Plot AUC scores with error bars\n",
    "fig, ax = plt.subplots()\n",
    "models = ['Logistic Regression', 'Random Forest', 'XGBoost']\n",
    "auc_scores_rounded = [round(auc, 3) for auc in auc_scores]\n",
    "bars = ax.bar(models, auc_scores, capsize=10)\n",
    "ax.set_ylabel('AUC Score')\n",
    "ax.set_title('Comparison of the AUC scores on Validation Set')\n",
    "# Add AUC scores to the bars\n",
    "for bar, auc in zip(bars, auc_scores_rounded):\n",
    "    yval = bar.get_height()\n",
    "    ax.text(bar.get_x(), yval + 0.005, auc, fontsize=10)\n",
    "plt.show()\n"
   ]
  },
  {
   "attachments": {},
   "cell_type": "markdown",
   "metadata": {},
   "source": [
    "The best performing model is XGBoost. Lets tune it in order to find the best hyperparameters.\n",
    "Not that we have removed the scaling step since tree-based models dont need it. "
   ]
  },
  {
   "attachments": {},
   "cell_type": "markdown",
   "metadata": {},
   "source": [
    "## XGBoost hyperparameter tuning"
   ]
  },
  {
   "cell_type": "code",
   "execution_count": 18,
   "metadata": {},
   "outputs": [
    {
     "name": "stdout",
     "output_type": "stream",
     "text": [
      "Best parameters: {'learning_rate': 0.1, 'max_depth': 6, 'min_child_weight': 3, 'n_estimators': 100}\n",
      "XGBoost Tuned with best parameters\n",
      "\n",
      "Classification Report:\n",
      "              precision    recall  f1-score   support\n",
      "\n",
      "         0.0       0.71      0.81      0.76      7474\n",
      "         1.0       0.60      0.47      0.53      4669\n",
      "\n",
      "    accuracy                           0.68     12143\n",
      "   macro avg       0.66      0.64      0.64     12143\n",
      "weighted avg       0.67      0.68      0.67     12143\n",
      "\n",
      "\n",
      "AUC Score:\n",
      "0.7201627883638364\n"
     ]
    }
   ],
   "source": [
    "from sklearn.model_selection import GridSearchCV\n",
    "\n",
    "param_grid = {\n",
    "    'learning_rate': [0.01, 0.1, 0.2],\n",
    "    'n_estimators': [50, 100, 200],\n",
    "    'max_depth': [6, 10, 50],\n",
    "    'min_child_weight': [3, 6, 10]\n",
    "}\n",
    "\n",
    "xgb = XGBClassifier(random_state=42)\n",
    "grid_search = GridSearchCV(estimator=xgb, param_grid=param_grid, cv=3, scoring='accuracy', n_jobs=-1)\n",
    "grid_search.fit(X_train, y_train)\n",
    "\n",
    "best_params = grid_search.best_params_\n",
    "print(\"Best parameters:\", best_params)\n",
    "\n",
    "xgb_tuned = XGBClassifier(**best_params, random_state=42)\n",
    "xgb_tuned.fit(X_train, y_train)\n",
    "y_pred_xgb_tuned = xgb_tuned.predict(X_val)\n",
    "y_prob_xgb_tuned = xgb_tuned.predict_proba(X_val)[:, 1]\n",
    "\n",
    "# Evaluate model performance\n",
    "print(\"XGBoost Tuned with best parameters\")\n",
    "print(\"\\nClassification Report:\")\n",
    "print(classification_report(y_val, y_pred_xgb_tuned))\n",
    "print(\"\\nAUC Score:\")\n",
    "print(roc_auc_score(y_val, y_prob_xgb_tuned))"
   ]
  },
  {
   "cell_type": "code",
   "execution_count": 61,
   "metadata": {},
   "outputs": [
    {
     "data": {
      "text/plain": [
       "['models/xgb_tuned.joblib']"
      ]
     },
     "execution_count": 61,
     "metadata": {},
     "output_type": "execute_result"
    }
   ],
   "source": [
    "import joblib\n",
    "# Save the best parameters\n",
    "joblib.dump(best_params, 'models/xgb_best_params.joblib')\n",
    "\n",
    "# Save the tuned XGBoost model \n",
    "joblib.dump(xgb_tuned, 'models/xgb_tuned.joblib')"
   ]
  },
  {
   "cell_type": "code",
   "execution_count": 24,
   "metadata": {},
   "outputs": [],
   "source": [
    "y_pred_xgb_tuned = xgb_tuned.predict(X_val)\n",
    "y_prob_xgb_tuned = xgb_tuned.predict_proba(X_val)[:, 1]"
   ]
  },
  {
   "cell_type": "code",
   "execution_count": 25,
   "metadata": {},
   "outputs": [
    {
     "name": "stdout",
     "output_type": "stream",
     "text": [
      "XGBoost Tuned with best parameters - test set\n",
      "\n",
      "Classification Report:\n",
      "              precision    recall  f1-score   support\n",
      "\n",
      "         0.0       0.70      0.81      0.75      7357\n",
      "         1.0       0.61      0.48      0.54      4787\n",
      "\n",
      "    accuracy                           0.68     12144\n",
      "   macro avg       0.66      0.64      0.64     12144\n",
      "weighted avg       0.67      0.68      0.67     12144\n",
      "\n",
      "\n",
      "AUC Score:\n",
      "0.7214909018435736\n"
     ]
    }
   ],
   "source": [
    "# Evaluate performance on the test set \n",
    "y_pred_xgb_tuned_test = xgb_tuned.predict(X_test)\n",
    "y_prob_xgb_tuned_test = xgb_tuned.predict_proba(X_test)[:, 1]\n",
    "\n",
    "# Evaluate model performance\n",
    "print(\"XGBoost Tuned with best parameters - test set\")\n",
    "print(\"\\nClassification Report:\")\n",
    "print(classification_report(y_test, y_pred_xgb_tuned_test))\n",
    "print(\"\\nAUC Score:\")\n",
    "print(roc_auc_score(y_test, y_prob_xgb_tuned_test))"
   ]
  },
  {
   "attachments": {},
   "cell_type": "markdown",
   "metadata": {},
   "source": [
    "The model didn't overfit the validation set and generalize with similar performance on the test set"
   ]
  },
  {
   "cell_type": "code",
   "execution_count": 27,
   "metadata": {},
   "outputs": [
    {
     "data": {
      "image/png": "[encoded data removed]",
      "text/plain": [
       "<Figure size 640x480 with 1 Axes>"
      ]
     },
     "metadata": {},
     "output_type": "display_data"
    }
   ],
   "source": [
    "from sklearn.metrics import roc_curve, roc_auc_score\n",
    "\n",
    "fpr, tpr, _ = roc_curve(y_val, y_prob_xgb_tuned)\n",
    "roc_auc = roc_auc_score(y_val, y_prob_xgb_tuned)\n",
    "\n",
    "fig, ax = plt.subplots()\n",
    "ax.plot(fpr, tpr, label='ROC curve (area = %0.2f)' % roc_auc)\n",
    "ax.plot([0, 1], [0, 1], 'k--')\n",
    "ax.set_xlim([0.0, 1.0])\n",
    "ax.set_ylim([0.0, 1.05])\n",
    "ax.set_xlabel('False Positive Rate')\n",
    "ax.set_ylabel('True Positive Rate')\n",
    "ax.set_title('Receiver operating characteristic')\n",
    "ax.legend(loc=\"lower right\")\n",
    "plt.show()\n"
   ]
  },
  {
   "cell_type": "markdown",
   "metadata": {},
   "source": [
    "## Handling class imbalance"
   ]
  },
  {
   "attachments": {},
   "cell_type": "markdown",
   "metadata": {},
   "source": [
    "To address class imbalance, we'll use SMOTE to oversample the minority class."
   ]
  },
  {
   "cell_type": "code",
   "execution_count": 110,
   "metadata": {},
   "outputs": [
    {
     "name": "stdout",
     "output_type": "stream",
     "text": [
      "XGBoost Tuned with SMOTE\n",
      "Confusion Matrix:\n",
      "[[5363 1994]\n",
      " [2009 2778]]\n",
      "\n",
      "Classification Report:\n",
      "              precision    recall  f1-score   support\n",
      "\n",
      "         0.0       0.73      0.73      0.73      7357\n",
      "         1.0       0.58      0.58      0.58      4787\n",
      "\n",
      "    accuracy                           0.67     12144\n",
      "   macro avg       0.65      0.65      0.65     12144\n",
      "weighted avg       0.67      0.67      0.67     12144\n",
      "\n",
      "\n",
      "Accuracy Score:\n",
      "0.6703722002635046\n",
      "\n",
      "AUC Score:\n",
      "0.7168164543550068\n"
     ]
    }
   ],
   "source": [
    "from xgboost import XGBClassifier\n",
    "from imblearn.over_sampling import SMOTE\n",
    "from sklearn.metrics import confusion_matrix, classification_report, accuracy_score, roc_auc_score\n",
    "\n",
    "# Create a SMOTE object\n",
    "smote = SMOTE(random_state=42, k_neighbors=5, sampling_strategy='minority')\n",
    "\n",
    "# Apply SMOTE to training data\n",
    "X_train_smote, y_train_smote = smote.fit_resample(X_train, y_train)\n",
    "\n",
    "# Train a XGBoost model on SMOTE-applied training data\n",
    "xgb_tuned_smote_model = XGBClassifier(**best_params, random_state=42)\n",
    "xgb_tuned_smote_model.fit(X_train_smote, y_train_smote)\n",
    "\n",
    "# Make predictions on test data\n",
    "y_pred_xgb_smote = xgb_tuned_smote_model.predict(X_test)\n",
    "y_prob_xgb_smote = xgb_tuned_smote_model.predict_proba(X_test)[:, 1]\n",
    "\n",
    "# Evaluate model performance\n",
    "print(\"XGBoost Tuned with SMOTE\")\n",
    "print(\"Confusion Matrix:\")\n",
    "print(confusion_matrix(y_test, y_pred_xgb_smote))\n",
    "print(\"\\nClassification Report:\")\n",
    "print(classification_report(y_test, y_pred_xgb_smote))\n",
    "print(\"\\nAccuracy Score:\")\n",
    "print(accuracy_score(y_test, y_pred_xgb_smote))\n",
    "print(\"\\nAUC Score:\")\n",
    "print(roc_auc_score(y_test, y_prob_xgb_smote))"
   ]
  },
  {
   "attachments": {},
   "cell_type": "markdown",
   "metadata": {},
   "source": [
    "- The confusion matrix shows that the model is able to correctly identify 73% of non-defaulters and 58% of defaulters. \n",
    "- The classification report also shows that the model has a better precision and recall for non-defaulters as compared to defaulters. \n",
    "- The AUC score of 0.716 indicates that the model is performing better than a random classifier. However, further improvements can be made by using more sophisticated techniques such as neural networks or ensemble models."
   ]
  },
  {
   "cell_type": "code",
   "execution_count": 106,
   "metadata": {},
   "outputs": [
    {
     "data": {
      "text/plain": [
       "['models/xgb_tuned_smote_model.joblib']"
      ]
     },
     "execution_count": 106,
     "metadata": {},
     "output_type": "execute_result"
    }
   ],
   "source": [
    "# Save the model\n",
    "joblib.dump(xgb_tuned_smote_model, 'models/xgb_tuned_smote_model.joblib')"
   ]
  },
  {
   "attachments": {},
   "cell_type": "markdown",
   "metadata": {},
   "source": [
    "### Choosing the SMOTE Model \n",
    "\n",
    "From a business perspective, it can be advantageous to minimize the number of customers who are incorrectly predicted to not default when they actually will (i.e., minimize false negatives). Therefore, focusing on maximizing recall is an appropriate strategy.\n",
    "\n",
    "In this case, the model with SMOTE has the following results compared to the alternative model:\n",
    "- Precision: 0.07 points lower\n",
    "- Recall: 0.09 points higher\n",
    "- AUC is almost the same (0.01 points lower)\n",
    "\n",
    "Opting for the SMOTE model is a reasonable choice, as it offers a better recall, which aligns with the goal of reducing false negatives. Additionally, the SMOTE model provides a more balanced result in terms of precision and recall, which can contribute to a more effective credit risk assessment.\n"
   ]
  },
  {
   "cell_type": "markdown",
   "metadata": {},
   "source": [
    "### Predicting default for 'test_topred' dataframe and saving the results"
   ]
  },
  {
   "cell_type": "code",
   "execution_count": 107,
   "metadata": {},
   "outputs": [
    {
     "name": "stdout",
     "output_type": "stream",
     "text": [
      "              loan_id  prediction\n",
      "0      loan_cd4c2e979           0\n",
      "1      loan_d9bb16aab           0\n",
      "2      loan_9c8277e30           1\n",
      "3      loan_adffbc956           0\n",
      "4      loan_4cfc001f8           0\n",
      "...               ...         ...\n",
      "49995  loan_ab8a84888           1\n",
      "49996  loan_ba873142e           1\n",
      "49997  loan_1d79c0d91           0\n",
      "49998  loan_dcf316fb1           0\n",
      "49999  loan_4d27d9a86           1\n",
      "\n",
      "[50000 rows x 2 columns]\n"
     ]
    }
   ],
   "source": [
    "from data_processing import process_data\n",
    "\n",
    "# Load the data to be predicted\n",
    "test_data = pd.read_csv('test_topred.csv')\n",
    "\n",
    "# Extract loan_id column and store it separately\n",
    "loan_ids = test_data['loan_id']\n",
    "\n",
    "# Process the data\n",
    "test_data_processed = process_data(test_data)\n",
    "\n",
    "# Make predictions\n",
    "predictions = xgb_tuned_smote_model.predict(test_data_processed)\n",
    "\n",
    "# Create a new dataframe with loan_id and prediction columns\n",
    "predictions_df = pd.DataFrame({'loan_id': loan_ids, 'prediction': predictions})\n",
    "\n",
    "# Print the dataframe\n",
    "print(predictions_df)\n",
    "\n",
    "# Save the dataframe\n",
    "predictions_df.to_csv('test_with_pred.csv', index=False)"
   ]
  },
  {
   "cell_type": "markdown",
   "metadata": {},
   "source": [
    "## Feature selection"
   ]
  },
  {
   "attachments": {},
   "cell_type": "markdown",
   "metadata": {},
   "source": [
    "We'll use the feature importances from the XGBoost model to select the top features."
   ]
  },
  {
   "cell_type": "code",
   "execution_count": 32,
   "metadata": {},
   "outputs": [
    {
     "data": {
      "image/png": "[encoded data removed]",
      "text/plain": [
       "<Figure size 1000x600 with 1 Axes>"
      ]
     },
     "metadata": {},
     "output_type": "display_data"
    }
   ],
   "source": [
    "# Get feature importances\n",
    "feature_importances = xgb_tuned.feature_importances_\n",
    "\n",
    "# Get feature names\n",
    "feature_names = X_train.columns\n",
    "\n",
    "# Create a sorted index of feature importances\n",
    "sorted_idx = np.argsort(feature_importances)\n",
    "\n",
    "# Plot feature importances\n",
    "plt.figure(figsize=(10, 6))\n",
    "plt.barh(range(X_train.shape[1]), feature_importances[sorted_idx], align='center')\n",
    "plt.yticks(range(X_train.shape[1]), feature_names[sorted_idx])\n",
    "plt.xlabel('Feature Importance')\n",
    "plt.title('Feature Importances - Tuned XGBoost Model')\n",
    "plt.show()\n"
   ]
  },
  {
   "attachments": {},
   "cell_type": "markdown",
   "metadata": {},
   "source": [
    "### To go further"
   ]
  },
  {
   "attachments": {},
   "cell_type": "markdown",
   "metadata": {},
   "source": [
    "### Possible Improvements"
   ]
  },
  {
   "attachments": {},
   "cell_type": "markdown",
   "metadata": {},
   "source": [
    "\n",
    "Here are some ideas to further improve the project:\n",
    "\n",
    "- Retrain the XGBoost model using only the top 10 most important features identified from feature importance analysis. This may help to simplify the model and reduce overfitting. \n",
    "- Explore the use of SMOTE (Synthetic Minority Over-sampling Technique) as a hyperparameter in the XGBoost tuning. This technique may help to balance the class distribution and improve the model's ability to predict defaults.\n",
    "- Gather additional information about the loan amount and use it as a feature in the model. This could potentially improve the model's performance by capturing the relationship between loan amount and default risk."
   ]
  },
  {
   "cell_type": "markdown",
   "metadata": {},
   "source": []
  }
 ],
 "metadata": {
  "kernelspec": {
   "display_name": "base",
   "language": "python",
   "name": "python3"
  },
  "language_info": {
   "codemirror_mode": {
    "name": "ipython",
    "version": 3
   },
   "file_extension": ".py",
   "mimetype": "text/x-python",
   "name": "python",
   "nbconvert_exporter": "python",
   "pygments_lexer": "ipython3",
   "version": "3.9.13"
  },
  "orig_nbformat": 4,
  "vscode": {
   "interpreter": {
    "hash": "79aeea679e7d5a7d1f41db48863cfb07aef47c7edef851612a66aac736df3fca"
   }
  }
 },
 "nbformat": 4,
 "nbformat_minor": 2
}
